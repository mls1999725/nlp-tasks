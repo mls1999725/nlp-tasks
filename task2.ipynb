{
  "nbformat": 4,
  "nbformat_minor": 0,
  "metadata": {
    "colab": {
      "name": "task2.ipynb",
      "provenance": [],
      "collapsed_sections": []
    },
    "kernelspec": {
      "name": "python3",
      "display_name": "Python 3"
    }
  },
  "cells": [
    {
      "cell_type": "code",
      "metadata": {
        "id": "eFYmRz5VJ0Jw",
        "colab_type": "code",
        "colab": {}
      },
      "source": [
        "import numpy as np\n",
        "import pandas as pd\n",
        "import matplotlib.pyplot as plt\n",
        "from sklearn.feature_extraction.text import TfidfTransformer, CountVectorizer, TfidfVectorizer\n",
        "from sklearn.pipeline import Pipeline\n",
        "from sklearn.linear_model import LogisticRegression\n",
        "import seaborn as sns\n",
        "from sklearn.model_selection import train_test_split"
      ],
      "execution_count": 0,
      "outputs": []
    },
    {
      "cell_type": "code",
      "metadata": {
        "id": "Avt1UwIBJ6Ej",
        "colab_type": "code",
        "colab": {}
      },
      "source": [
        "df_train = pd.read_csv(\"train.tsv\", sep=\"\\t\")\n",
        "df_test = pd.read_csv(\"test.tsv\", sep=\"\\t\")"
      ],
      "execution_count": 0,
      "outputs": []
    },
    {
      "cell_type": "code",
      "metadata": {
        "id": "E_fjw8nTJ-Qt",
        "colab_type": "code",
        "colab": {}
      },
      "source": [
        "#变为二分类问题\n",
        "convert = lambda x:1 if x>3 else 0"
      ],
      "execution_count": 0,
      "outputs": []
    },
    {
      "cell_type": "code",
      "metadata": {
        "id": "tPtSzYs9KbCa",
        "colab_type": "code",
        "colab": {}
      },
      "source": [
        "df_train['target'] = df_train['Sentiment'].apply(convert)"
      ],
      "execution_count": 0,
      "outputs": []
    },
    {
      "cell_type": "code",
      "metadata": {
        "id": "P70RCT9PK2VJ",
        "colab_type": "code",
        "colab": {}
      },
      "source": [
        "dist = df_train.groupby(['Sentiment']).size()"
      ],
      "execution_count": 0,
      "outputs": []
    },
    {
      "cell_type": "code",
      "metadata": {
        "id": "0FKMUO0HL01M",
        "colab_type": "code",
        "outputId": "8c78fcf5-8d57-4ca6-b60d-a8b1840e3e91",
        "colab": {
          "base_uri": "https://localhost:8080/",
          "height": 139
        }
      },
      "source": [
        "dist"
      ],
      "execution_count": 8,
      "outputs": [
        {
          "output_type": "execute_result",
          "data": {
            "text/plain": [
              "Sentiment\n",
              "0     7072\n",
              "1    27273\n",
              "2    79582\n",
              "3    32927\n",
              "4     9206\n",
              "dtype: int64"
            ]
          },
          "metadata": {
            "tags": []
          },
          "execution_count": 8
        }
      ]
    },
    {
      "cell_type": "code",
      "metadata": {
        "id": "TCECWu60L1qC",
        "colab_type": "code",
        "colab": {}
      },
      "source": [
        "vectorizer = CountVectorizer()"
      ],
      "execution_count": 0,
      "outputs": []
    },
    {
      "cell_type": "code",
      "metadata": {
        "id": "z6I1Extiat2M",
        "colab_type": "code",
        "colab": {
          "base_uri": "https://localhost:8080/",
          "height": 909
        },
        "outputId": "de6df9ae-abe7-4435-89a7-7d03ca3081d8"
      },
      "source": [
        "x_train = vectorizer.fit_transform(df_train['Phrase'])\n",
        "#x_train = x_train.toarray()\n",
        "y_train = df_train['target']\n",
        "x_test = vectorizer.transform(df_test['Phrase'])\n",
        "x_train,x_val,y_train,y_val=train_test_split(x_train,y_train,test_size=0.2,stratify=y_train)\n",
        "print(x_train)"
      ],
      "execution_count": 10,
      "outputs": [
        {
          "output_type": "stream",
          "text": [
            "  (0, 9227)\t1\n",
            "  (0, 625)\t1\n",
            "  (0, 1872)\t1\n",
            "  (0, 4061)\t1\n",
            "  (0, 9877)\t1\n",
            "  (0, 8002)\t1\n",
            "  (1, 5323)\t1\n",
            "  (1, 506)\t1\n",
            "  (1, 7241)\t1\n",
            "  (1, 8704)\t1\n",
            "  (2, 6435)\t1\n",
            "  (3, 9227)\t1\n",
            "  (3, 13505)\t1\n",
            "  (3, 13503)\t1\n",
            "  (3, 7865)\t1\n",
            "  (3, 9270)\t1\n",
            "  (3, 4651)\t1\n",
            "  (3, 7341)\t1\n",
            "  (3, 9413)\t1\n",
            "  (3, 15013)\t1\n",
            "  (3, 6566)\t1\n",
            "  (3, 10598)\t1\n",
            "  (3, 4238)\t1\n",
            "  (3, 11547)\t1\n",
            "  (3, 14774)\t1\n",
            "  :\t:\n",
            "  (124844, 1879)\t1\n",
            "  (124844, 13681)\t1\n",
            "  (124844, 605)\t1\n",
            "  (124844, 6191)\t1\n",
            "  (124844, 12431)\t1\n",
            "  (124844, 11560)\t1\n",
            "  (124844, 166)\t1\n",
            "  (124844, 7241)\t1\n",
            "  (124844, 562)\t1\n",
            "  (124844, 13008)\t1\n",
            "  (124844, 9114)\t1\n",
            "  (124844, 14958)\t1\n",
            "  (124845, 3486)\t1\n",
            "  (124845, 14259)\t1\n",
            "  (124846, 12431)\t1\n",
            "  (124846, 12525)\t1\n",
            "  (124846, 6307)\t1\n",
            "  (124847, 13681)\t1\n",
            "  (124847, 14914)\t1\n",
            "  (124847, 1666)\t1\n",
            "  (124847, 13896)\t1\n",
            "  (124847, 2092)\t1\n",
            "  (124847, 6294)\t1\n",
            "  (124847, 5468)\t1\n",
            "  (124847, 7323)\t1\n"
          ],
          "name": "stdout"
        }
      ]
    },
    {
      "cell_type": "code",
      "metadata": {
        "id": "o9ZqhfTta-s0",
        "colab_type": "code",
        "colab": {}
      },
      "source": [
        "#print(x_train.toarray()[:5])"
      ],
      "execution_count": 0,
      "outputs": []
    },
    {
      "cell_type": "code",
      "metadata": {
        "id": "5MGAunbrbQUM",
        "colab_type": "code",
        "outputId": "abdf8649-a2b4-40ca-96e7-422c0e6808d3",
        "colab": {
          "base_uri": "https://localhost:8080/",
          "height": 34
        }
      },
      "source": [
        "type(x_train)"
      ],
      "execution_count": 11,
      "outputs": [
        {
          "output_type": "execute_result",
          "data": {
            "text/plain": [
              "scipy.sparse.csr.csr_matrix"
            ]
          },
          "metadata": {
            "tags": []
          },
          "execution_count": 11
        }
      ]
    },
    {
      "cell_type": "code",
      "metadata": {
        "id": "LiodyIp2ch1L",
        "colab_type": "code",
        "colab": {}
      },
      "source": [
        "#vectorizer = TfidfVectorizer()"
      ],
      "execution_count": 0,
      "outputs": []
    },
    {
      "cell_type": "code",
      "metadata": {
        "id": "tl6FK1UZpEsw",
        "colab_type": "code",
        "outputId": "0f19cd43-a986-417d-897e-a72f43e76dce",
        "colab": {
          "base_uri": "https://localhost:8080/",
          "height": 72
        }
      },
      "source": [
        "classifier = LogisticRegression()\n",
        "classifier.fit(x_train, y_train)\n",
        "prediction = classifier.predict(x_val)\n",
        "prediction_train = classifier.predict(x_train)"
      ],
      "execution_count": 13,
      "outputs": [
        {
          "output_type": "stream",
          "text": [
            "/usr/local/lib/python3.6/dist-packages/sklearn/linear_model/logistic.py:432: FutureWarning: Default solver will be changed to 'lbfgs' in 0.22. Specify a solver to silence this warning.\n",
            "  FutureWarning)\n"
          ],
          "name": "stderr"
        }
      ]
    },
    {
      "cell_type": "code",
      "metadata": {
        "id": "r8scboPPqD0K",
        "colab_type": "code",
        "outputId": "9c9fe4ce-0ab8-40ea-e5aa-f32f5016d178",
        "colab": {
          "base_uri": "https://localhost:8080/",
          "height": 34
        }
      },
      "source": [
        "print(np.mean(prediction == y_val))"
      ],
      "execution_count": 14,
      "outputs": [
        {
          "output_type": "stream",
          "text": [
            "0.947680379341279\n"
          ],
          "name": "stdout"
        }
      ]
    },
    {
      "cell_type": "code",
      "metadata": {
        "id": "VPwFRERBBx7M",
        "colab_type": "code",
        "colab": {}
      },
      "source": [
        "transformer = TfidfTransformer()"
      ],
      "execution_count": 0,
      "outputs": []
    },
    {
      "cell_type": "code",
      "metadata": {
        "id": "hhRFSpebUkBG",
        "colab_type": "code",
        "colab": {
          "base_uri": "https://localhost:8080/",
          "height": 909
        },
        "outputId": "b8966b3a-52d3-4216-ca05-db3916b48958"
      },
      "source": [
        "x_train = transformer.fit_transform(x_train)\n",
        "x_val = transformer.fit_transform(x_val)\n",
        "x_test = transformer.transform(x_test)\n",
        "print(x_train)"
      ],
      "execution_count": 16,
      "outputs": [
        {
          "output_type": "stream",
          "text": [
            "  (0, 9877)\t0.40214326860896094\n",
            "  (0, 9227)\t0.15729122059621106\n",
            "  (0, 8002)\t0.585109488198387\n",
            "  (0, 4061)\t0.4902006984004039\n",
            "  (0, 1872)\t0.4546342602496848\n",
            "  (0, 625)\t0.15555743296626676\n",
            "  (1, 8704)\t0.8085072827051764\n",
            "  (1, 7241)\t0.32399609698510595\n",
            "  (1, 5323)\t0.31559646275944886\n",
            "  (1, 506)\t0.37648555834830294\n",
            "  (2, 6435)\t1.0\n",
            "  (3, 15013)\t0.20970813799887106\n",
            "  (3, 14774)\t0.3097021030227671\n",
            "  (3, 13505)\t0.08030288519397548\n",
            "  (3, 13503)\t0.12242565424768422\n",
            "  (3, 13355)\t0.3426908324656273\n",
            "  (3, 11547)\t0.3289277691379508\n",
            "  (3, 10598)\t0.22520214613924255\n",
            "  (3, 9413)\t0.20601146630311615\n",
            "  (3, 9270)\t0.15260477270883924\n",
            "  (3, 9227)\t0.09212337248473076\n",
            "  (3, 7865)\t0.16662432320797355\n",
            "  (3, 7341)\t0.24498688784387626\n",
            "  (3, 6566)\t0.21083561997110703\n",
            "  (3, 4915)\t0.3289277691379508\n",
            "  :\t:\n",
            "  (124844, 14958)\t0.4465375612093424\n",
            "  (124844, 13681)\t0.14375881108255278\n",
            "  (124844, 13008)\t0.3929935308204907\n",
            "  (124844, 12431)\t0.2788057282646623\n",
            "  (124844, 11560)\t0.3244409499136251\n",
            "  (124844, 9114)\t0.22451409908345768\n",
            "  (124844, 7241)\t0.19698484690149382\n",
            "  (124844, 6191)\t0.23448998075082225\n",
            "  (124844, 1879)\t0.20818751114859138\n",
            "  (124844, 605)\t0.1984793556945286\n",
            "  (124844, 562)\t0.4063553726902812\n",
            "  (124844, 166)\t0.22459560611584434\n",
            "  (124845, 14259)\t0.7129698184538952\n",
            "  (124845, 3486)\t0.7011947218667719\n",
            "  (124846, 12525)\t0.49050701924005846\n",
            "  (124846, 12431)\t0.43291599591265617\n",
            "  (124846, 6307)\t0.756297960171245\n",
            "  (124847, 14914)\t0.24662655437847597\n",
            "  (124847, 13896)\t0.3600802666555494\n",
            "  (124847, 13681)\t0.1438888560158161\n",
            "  (124847, 7323)\t0.42781902563739715\n",
            "  (124847, 6294)\t0.36213749494733743\n",
            "  (124847, 5468)\t0.4170539303671446\n",
            "  (124847, 2092)\t0.42212998923271583\n",
            "  (124847, 1666)\t0.35001878344850046\n"
          ],
          "name": "stdout"
        }
      ]
    },
    {
      "cell_type": "code",
      "metadata": {
        "id": "ICcEWCTqW2Vz",
        "colab_type": "code",
        "colab": {
          "base_uri": "https://localhost:8080/",
          "height": 72
        },
        "outputId": "bdf0ba94-e1e2-4a30-d7f8-d6593579bba6"
      },
      "source": [
        "classifier.fit(x_train, y_train)\n",
        "prediction = classifier.predict(x_val)"
      ],
      "execution_count": 17,
      "outputs": [
        {
          "output_type": "stream",
          "text": [
            "/usr/local/lib/python3.6/dist-packages/sklearn/linear_model/logistic.py:432: FutureWarning: Default solver will be changed to 'lbfgs' in 0.22. Specify a solver to silence this warning.\n",
            "  FutureWarning)\n"
          ],
          "name": "stderr"
        }
      ]
    },
    {
      "cell_type": "code",
      "metadata": {
        "id": "jS-pqqD3VQI5",
        "colab_type": "code",
        "colab": {
          "base_uri": "https://localhost:8080/",
          "height": 34
        },
        "outputId": "617be9e2-9fb6-44bc-826b-fc6105bce823"
      },
      "source": [
        "print(np.mean(prediction == y_val))"
      ],
      "execution_count": 18,
      "outputs": [
        {
          "output_type": "stream",
          "text": [
            "0.946078431372549\n"
          ],
          "name": "stdout"
        }
      ]
    },
    {
      "cell_type": "code",
      "metadata": {
        "id": "f4P43h9RYXy2",
        "colab_type": "code",
        "colab": {
          "base_uri": "https://localhost:8080/",
          "height": 142
        },
        "outputId": "715be590-9516-43ea-ba2c-2cdf505316fd"
      },
      "source": [
        "#原始的问题，多分类\n",
        "x_train = vectorizer.fit_transform(df_train['Phrase'])\n",
        "#x_train = x_train.toarray()\n",
        "y_train = df_train['Sentiment']\n",
        "x_test = vectorizer.transform(df_test['Phrase'])\n",
        "x_train,x_val,y_train,y_val=train_test_split(x_train,y_train,test_size=0.2,stratify=y_train)\n",
        "classifier.fit(x_train, y_train)\n",
        "prediction = classifier.predict(x_val)\n",
        "prediction_train = classifier.predict(x_train)\n",
        "#BOW 特征\n",
        "print(np.mean(prediction == y_val))\n",
        "transformer = TfidfTransformer()\n",
        "x_train = transformer.fit_transform(x_train)\n",
        "x_val = transformer.fit_transform(x_val)\n",
        "x_test = transformer.transform(x_test)\n",
        "#print(x_train)\n",
        "classifier.fit(x_train, y_train)\n",
        "prediction = classifier.predict(x_val)\n",
        "#TF-IDF特征\n",
        "print(np.mean(prediction == y_val))"
      ],
      "execution_count": 20,
      "outputs": [
        {
          "output_type": "stream",
          "text": [
            "/usr/local/lib/python3.6/dist-packages/sklearn/linear_model/logistic.py:432: FutureWarning: Default solver will be changed to 'lbfgs' in 0.22. Specify a solver to silence this warning.\n",
            "  FutureWarning)\n",
            "/usr/local/lib/python3.6/dist-packages/sklearn/linear_model/logistic.py:469: FutureWarning: Default multi_class will be changed to 'auto' in 0.22. Specify the multi_class option to silence this warning.\n",
            "  \"this warning.\", FutureWarning)\n"
          ],
          "name": "stderr"
        },
        {
          "output_type": "stream",
          "text": [
            "0.6397219018326284\n",
            "0.6289568114827631\n"
          ],
          "name": "stdout"
        }
      ]
    },
    {
      "cell_type": "code",
      "metadata": {
        "id": "k-ew7BxdGwS1",
        "colab_type": "code",
        "colab": {}
      },
      "source": [
        ""
      ],
      "execution_count": 0,
      "outputs": []
    }
  ]
}